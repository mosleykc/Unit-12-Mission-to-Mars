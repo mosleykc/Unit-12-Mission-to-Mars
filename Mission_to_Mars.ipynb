{
 "cells": [
  {
   "attachments": {},
   "cell_type": "markdown",
   "metadata": {
    "slideshow": {
     "slide_type": "slide"
    }
   },
   "source": [
    "<h1 style=\"color:slateblue\";> Unit 12 Homework - Mission to Mars</h1> "
   ]
  },
  {
   "cell_type": "markdown",
   "metadata": {},
   "source": [
    "<div class=\"alert alert-block alert-info\" style=\"color:black;\">\n",
    "\n",
    "<p>In this assignment, you will build a web application that scrapes various websites for data related to the Mission to Mars and displays the information in a single HTML page. The following outlines what you need to do. </p></div>"
   ]
  },
  {
   "cell_type": "code",
   "execution_count": 196,
   "metadata": {},
   "outputs": [],
   "source": [
    "# Define Dependecies\n",
    "\n",
    "# use the splinter library with the Browser module to launch browser through Python, using splinter over request for this \n",
    "# homework to be able to see site and navigate through as needed\n",
    "from splinter import Browser\n",
    "\n",
    "# pulling in the BeautifulSoup python library to extract data from the website and assigning it to shortened version bs\n",
    "from bs4 import BeautifulSoup as bs\n",
    "\n",
    "# importing Pandas library to use with the Pandas Scraping section\n",
    "import pandas as pd\n",
    "\n",
    "\n"
   ]
  },
  {
   "cell_type": "markdown",
   "metadata": {},
   "source": [
    "<h2 style=\"color:slateblue\";>Step 1: Scraping</h2>\n"
   ]
  },
  {
   "cell_type": "markdown",
   "metadata": {},
   "source": [
    "<div class=\"alert alert-block alert-info\" style=\"color:black;\">\n",
    "\n",
    "- Complete your initial scraping using Jupyter Notebook, BeautifulSoup, Pandas, and Requests/Splinter.\n",
    "\n",
    "- Create a Jupyter Notebook file called `mission_to_mars.ipynb` and use this to complete all of your scraping and analysis tasks. \n",
    "The following outlines what you need to scrape.\n",
    "\n",
    "</div>"
   ]
  },
  {
   "cell_type": "markdown",
   "metadata": {},
   "source": [
    "<h3>NASA Mars News</h3>"
   ]
  },
  {
   "cell_type": "markdown",
   "metadata": {},
   "source": [
    "<div class=\"alert alert-block alert-info\" style=\"color:black;\">\n",
    "<p>Scrape the [NASA Mars News Site](https://mars.nasa.gov/news/) and collect the latest News Title and Paragraph Text. Assign the text to variables that you can reference later.</p>\n",
    "\n",
    "\n",
    " *python Example:* \n",
    "> news_title = \"NASA's Next Mars Mission to Investigate Interior of Red Planet\"\n",
    "    \n",
    "> news_p = \"Preparation of NASA's next spacecraft to Mars, InSight, has ramped up this summer, on course for launch next May from Vandenberg Air Force Base in central California -- the first interplanetary launch in history from America's West Coast.\"\n",
    "</font>\n",
    "</div>"
   ]
  },
  {
   "cell_type": "code",
   "execution_count": 197,
   "metadata": {},
   "outputs": [],
   "source": [
    "# define executable path and define which browser is being uses, in this case Chrome. ChromeDriver saved in path with this notebook\n",
    "executable_path = {'executable_path': 'chromedriver.exe'}\n",
    "browser = Browser('chrome', **executable_path, headless=False)\n",
    "\n",
    "# Website subdirectory to be scraped\n",
    "url = \"https://mars.nasa.gov/news/\"\n",
    "\n",
    "# visit method tells the chrome browser previously defined to go to the URL and browser. \n",
    "browser.visit(url)\n",
    "html = browser.html\n",
    "\n",
    "# use BeautifulSoup to scrape website and store results in soup object and parse contents using lxml parser over html parser \n",
    "# in case html is not correctly structured. BeautifulSoup defined as bs when imported\n",
    "soup = bs(html,\"lxml\")\n",
    "\n",
    "#print scraped content in structured (prettified) format\n",
    "# print(soup.prettify())\n"
   ]
  },
  {
   "cell_type": "code",
   "execution_count": 198,
   "metadata": {},
   "outputs": [
    {
     "name": "stdout",
     "output_type": "stream",
     "text": [
      "Mars InSight Lander's 'Mole' Pauses Digging\n",
      "After the mission's heat probe began hammering last week, it appears to have hit a rock. The team is analyzing data before they hammer again.\n"
     ]
    }
   ],
   "source": [
    "# use BeautifulSoup method to look in soup object created in previous cell and  grab all data under the div class content_title \n",
    "# and assign to var news_article_title as text\n",
    "news_article_title = soup.find(\"div\", class_=\"content_title\").text\n",
    "\n",
    "# print news article title\n",
    "print(news_article_title)\n",
    "\n",
    "# use BeautifulSoup method to look in soup object grab all data under the div class article_teaser_body nd assign to var \n",
    "#article_teaser as text\n",
    "article_teaser = soup.find(\"div\", class_=\"article_teaser_body\").text\n",
    "\n",
    "#print article teaser paragraph\n",
    "print(article_teaser)"
   ]
  },
  {
   "cell_type": "markdown",
   "metadata": {},
   "source": [
    "   <h3>JPL Mars Space Images</h3>"
   ]
  },
  {
   "cell_type": "markdown",
   "metadata": {},
   "source": [
    "<div class=\"alert alert-block alert-info\" style=\"color:black;\">\n",
    "\n",
    "- Visit the url for JPL Featured Space Image [here](https://www.jpl.nasa.gov/spaceimages/?search=&category=Mars).\n",
    "\n",
    "- Use splinter to navigate the site and find the image url for the current Featured Mars Image and assign the url string to a variable called featured_image_url.\n",
    "\n",
    "- Make sure to find the image url to the full size .jpg image.\n",
    "\n",
    "- Make sure to save a complete url string for this image.\n",
    "\n",
    "<h5>python Example:</h5>\n",
    "\n",
    ">featured_image_url = 'https://www.jpl.nasa.gov/spaceimages/images/largesize/PIA16225_hires.jpg'\n",
    "</div>"
   ]
  },
  {
   "cell_type": "code",
   "execution_count": 199,
   "metadata": {
    "scrolled": false
   },
   "outputs": [],
   "source": [
    "# Define the url for the website subdirectory to be scraped\n",
    "url = \"https://www.jpl.nasa.gov/spaceimages/?search=&category=Mars\"\n",
    "\n",
    "# use the splinter visit method to tell the chrome browser previously defined to go to the URL in a chrome browser. \n",
    "browser.visit(url)\n",
    "html = browser.html\n",
    "\n",
    "# use BeautifulSoup to scrape website and store results in soup object and parse contents using lxml parser over html parser \n",
    "# in case html is not correctly structured\n",
    "soup = bs(html,\"lxml\")\n",
    "\n",
    "#print scraped content in structured (prettified) format\n",
    "#print(soup.prettify())"
   ]
  },
  {
   "cell_type": "code",
   "execution_count": 200,
   "metadata": {},
   "outputs": [
    {
     "name": "stdout",
     "output_type": "stream",
     "text": [
      "https://www.jpl.nasa.gov/spaceimages/images/mediumsize/PIA19141_ip.jpg\n"
     ]
    }
   ],
   "source": [
    "# use BeautifulSoup method to look in soup object created in previous cell and  grab all data under the foot anchor tag with class \n",
    "# button and style attribute and assign to var\n",
    "\n",
    "#find_featured_image = soup.find(\"article\", class_=\"carousel_item\")[\"style\"] <== did not return correct image\n",
    "find_featured_image = soup.find(\"a\", class_=\"button fancybox\")[\"data-fancybox-href\"]\n",
    "#print (find_featured_image)\n",
    "\n",
    "# since the returned content string contains additional test that is not needed \n",
    "# \"background-image: url('/spaceimages/images/wallpaper/PIA17200-1920x1200.jpg');\", \n",
    "# use the string replace method to remove unwanted text\n",
    "partial_featured_image =find_featured_image.replace(\"background-image: url('\",\"\").replace(\");\",\"\")\n",
    "\n",
    "# now that the extra content has been removed, concatenate the partial image URL with the main home home page URL\n",
    "\n",
    "home_pg_url = \"https://www.jpl.nasa.gov\"\n",
    "featured_image_url = home_pg_url + partial_featured_image\n",
    "\n",
    "\n",
    "# NOTE: when clicking on the current featured image FULL IMAGE button, full image is mediumsize, not largesize, please see code from website below\n",
    "# <a class=\"button fancybox\" data-description=\"This low-angle self-portrait of NASA's Curiosity Mars rover shows the vehicle \n",
    "# at the site from which it reached down to drill into a rock target called 'Buckskin' on lower Mount Sharp.\" \n",
    "# data-fancybox-group=\"images\" data-fancybox-href=\"/spaceimages/images/mediumsize/PIA19808_ip.jpg\" \n",
    "# data-link=\"/spaceimages/details.php?id=PIA19808\" data-title=\"Looking Up at Mars Rover Curiosity in 'Buckskin' Selfie\" \n",
    "# id=\"full_image\">FULL IMAGE</a>\n",
    "\n",
    "print(featured_image_url)"
   ]
  },
  {
   "cell_type": "markdown",
   "metadata": {},
   "source": [
    "### Mars Weather"
   ]
  },
  {
   "cell_type": "markdown",
   "metadata": {},
   "source": [
    "<div class=\"alert alert-block alert-info\" style=\"color:black;\">\n",
    "\n",
    "- Visit the Mars Weather twitter account [here](https://twitter.com/marswxreport?lang=en) and scrape the latest Mars weather tweet from the page. Save the tweet text for the weather report as a variable called `mars_weather`.\n",
    "\n",
    "<h5>python Example:</h5>\n",
    "\n",
    "> mars_weather = 'Sol 1801 (Aug 30, 2017), Sunny, high -21C/-5F, low -80C/-112F, pressure at 8.82 hPa, daylight 06:09-17:55'\n",
    "</div>"
   ]
  },
  {
   "cell_type": "code",
   "execution_count": 201,
   "metadata": {},
   "outputs": [],
   "source": [
    "# Website subdirectory to be scraped\n",
    "url = \"https://twitter.com/marswxreport?lang=en\"\n",
    "\n",
    "# visit method tells the chrome browser previously defined to go to the URL and browser. Initialize spliter.\n",
    "browser.visit(url)\n",
    "html = browser.html\n",
    "\n",
    "# use BeautifulSoup to scrape website and store resutling DOM in soup object and parse contents using lxml parser over html parser \n",
    "# in case html is not correctly structured\n",
    "soup = bs(html,\"lxml\")\n",
    "\n",
    "#print scraped content in structured (prettified) format\n",
    "#print(soup.prettify())"
   ]
  },
  {
   "cell_type": "code",
   "execution_count": 202,
   "metadata": {},
   "outputs": [
    {
     "name": "stdout",
     "output_type": "stream",
     "text": [
      "InSight sol 99 (2019-03-07) low -95.8ºC (-140.4ºF) high -13.3ºC (8.1ºF)\n",
      "winds from the SW at 4.2 m/s (9.5 mph) gusting to 12.0 m/s (26.8 mph)\n",
      "pressure at 7.20 hPapic.twitter.com/XRi0faFSv5\n"
     ]
    }
   ],
   "source": [
    "# use the soup object to find the p with class tweet-text\n",
    "mars_weather=soup.find(\"p\", class_=\"tweet-text\").text\n",
    "print(mars_weather)\n"
   ]
  },
  {
   "cell_type": "markdown",
   "metadata": {},
   "source": [
    "### Mars Facts"
   ]
  },
  {
   "cell_type": "markdown",
   "metadata": {},
   "source": [
    "<div class=\"alert alert-block alert-info\" style=\"color:black;\">\n",
    "\n",
    "- Visit the Mars Facts webpage [here](http://space-facts.com/mars/) and use Pandas to scrape the table containing facts about the planet including Diameter, Mass, etc.\n",
    "\n",
    "- Use Pandas to convert the data to a HTML table string.\n",
    "</div>"
   ]
  },
  {
   "cell_type": "code",
   "execution_count": 203,
   "metadata": {},
   "outputs": [
    {
     "data": {
      "text/plain": [
       "[                      0                              1\n",
       " 0  Equatorial Diameter:                       6,792 km\n",
       " 1       Polar Diameter:                       6,752 km\n",
       " 2                 Mass:  6.42 x 10^23 kg (10.7% Earth)\n",
       " 3                Moons:            2 (Phobos & Deimos)\n",
       " 4       Orbit Distance:       227,943,824 km (1.52 AU)\n",
       " 5         Orbit Period:           687 days (1.9 years)\n",
       " 6  Surface Temperature:                  -153 to 20 °C\n",
       " 7         First Record:              2nd millennium BC\n",
       " 8          Recorded By:           Egyptian astronomers]"
      ]
     },
     "execution_count": 203,
     "metadata": {},
     "output_type": "execute_result"
    }
   ],
   "source": [
    "# defining URL to scrape using Pandas\n",
    "url = \"https://space-facts.com/mars/\"\n",
    "\n",
    "# read in html table using Pandas, returns list of dataframes\n",
    "factsTable=pd.read_html(url)\n",
    "\n",
    "# print factsTable\n",
    "factsTable"
   ]
  },
  {
   "cell_type": "code",
   "execution_count": 204,
   "metadata": {},
   "outputs": [
    {
     "data": {
      "text/plain": [
       "list"
      ]
     },
     "execution_count": 204,
     "metadata": {},
     "output_type": "execute_result"
    }
   ],
   "source": [
    "# show what type was returned\n",
    "type(factsTable)"
   ]
  },
  {
   "cell_type": "code",
   "execution_count": 205,
   "metadata": {},
   "outputs": [],
   "source": [
    "# add column names\n",
    "factsTable_df = factsTable[0]\n",
    "factsTable_df.columns=[\"Description\",\"Value\"]"
   ]
  },
  {
   "cell_type": "code",
   "execution_count": 206,
   "metadata": {},
   "outputs": [],
   "source": [
    "#set the index to Description\n",
    "factsTable_df.set_index(\"Description\", inplace=True)"
   ]
  },
  {
   "cell_type": "code",
   "execution_count": 207,
   "metadata": {},
   "outputs": [
    {
     "data": {
      "text/html": [
       "<div>\n",
       "<style scoped>\n",
       "    .dataframe tbody tr th:only-of-type {\n",
       "        vertical-align: middle;\n",
       "    }\n",
       "\n",
       "    .dataframe tbody tr th {\n",
       "        vertical-align: top;\n",
       "    }\n",
       "\n",
       "    .dataframe thead th {\n",
       "        text-align: right;\n",
       "    }\n",
       "</style>\n",
       "<table border=\"1\" class=\"dataframe\">\n",
       "  <thead>\n",
       "    <tr style=\"text-align: right;\">\n",
       "      <th></th>\n",
       "      <th>Value</th>\n",
       "    </tr>\n",
       "    <tr>\n",
       "      <th>Description</th>\n",
       "      <th></th>\n",
       "    </tr>\n",
       "  </thead>\n",
       "  <tbody>\n",
       "    <tr>\n",
       "      <th>Equatorial Diameter:</th>\n",
       "      <td>6,792 km</td>\n",
       "    </tr>\n",
       "    <tr>\n",
       "      <th>Polar Diameter:</th>\n",
       "      <td>6,752 km</td>\n",
       "    </tr>\n",
       "    <tr>\n",
       "      <th>Mass:</th>\n",
       "      <td>6.42 x 10^23 kg (10.7% Earth)</td>\n",
       "    </tr>\n",
       "    <tr>\n",
       "      <th>Moons:</th>\n",
       "      <td>2 (Phobos &amp; Deimos)</td>\n",
       "    </tr>\n",
       "    <tr>\n",
       "      <th>Orbit Distance:</th>\n",
       "      <td>227,943,824 km (1.52 AU)</td>\n",
       "    </tr>\n",
       "    <tr>\n",
       "      <th>Orbit Period:</th>\n",
       "      <td>687 days (1.9 years)</td>\n",
       "    </tr>\n",
       "    <tr>\n",
       "      <th>Surface Temperature:</th>\n",
       "      <td>-153 to 20 °C</td>\n",
       "    </tr>\n",
       "    <tr>\n",
       "      <th>First Record:</th>\n",
       "      <td>2nd millennium BC</td>\n",
       "    </tr>\n",
       "    <tr>\n",
       "      <th>Recorded By:</th>\n",
       "      <td>Egyptian astronomers</td>\n",
       "    </tr>\n",
       "  </tbody>\n",
       "</table>\n",
       "</div>"
      ],
      "text/plain": [
       "                                              Value\n",
       "Description                                        \n",
       "Equatorial Diameter:                       6,792 km\n",
       "Polar Diameter:                            6,752 km\n",
       "Mass:                 6.42 x 10^23 kg (10.7% Earth)\n",
       "Moons:                          2 (Phobos & Deimos)\n",
       "Orbit Distance:            227,943,824 km (1.52 AU)\n",
       "Orbit Period:                  687 days (1.9 years)\n",
       "Surface Temperature:                  -153 to 20 °C\n",
       "First Record:                     2nd millennium BC\n",
       "Recorded By:                   Egyptian astronomers"
      ]
     },
     "execution_count": 207,
     "metadata": {},
     "output_type": "execute_result"
    }
   ],
   "source": [
    "factsTable_df"
   ]
  },
  {
   "cell_type": "code",
   "execution_count": 208,
   "metadata": {},
   "outputs": [
    {
     "data": {
      "text/plain": [
       "'<table border=\"1\" class=\"dataframe\">\\n  <thead>\\n    <tr style=\"text-align: right;\">\\n      <th></th>\\n      <th>Value</th>\\n    </tr>\\n    <tr>\\n      <th>Description</th>\\n      <th></th>\\n    </tr>\\n  </thead>\\n  <tbody>\\n    <tr>\\n      <th>Equatorial Diameter:</th>\\n      <td>6,792 km</td>\\n    </tr>\\n    <tr>\\n      <th>Polar Diameter:</th>\\n      <td>6,752 km</td>\\n    </tr>\\n    <tr>\\n      <th>Mass:</th>\\n      <td>6.42 x 10^23 kg (10.7% Earth)</td>\\n    </tr>\\n    <tr>\\n      <th>Moons:</th>\\n      <td>2 (Phobos &amp; Deimos)</td>\\n    </tr>\\n    <tr>\\n      <th>Orbit Distance:</th>\\n      <td>227,943,824 km (1.52 AU)</td>\\n    </tr>\\n    <tr>\\n      <th>Orbit Period:</th>\\n      <td>687 days (1.9 years)</td>\\n    </tr>\\n    <tr>\\n      <th>Surface Temperature:</th>\\n      <td>-153 to 20 °C</td>\\n    </tr>\\n    <tr>\\n      <th>First Record:</th>\\n      <td>2nd millennium BC</td>\\n    </tr>\\n    <tr>\\n      <th>Recorded By:</th>\\n      <td>Egyptian astronomers</td>\\n    </tr>\\n  </tbody>\\n</table>'"
      ]
     },
     "execution_count": 208,
     "metadata": {},
     "output_type": "execute_result"
    }
   ],
   "source": [
    "# convert list to html table\n",
    "factsHtmlTable=factsTable_df.to_html()\n",
    "factsHtmlTable"
   ]
  },
  {
   "cell_type": "code",
   "execution_count": 209,
   "metadata": {},
   "outputs": [
    {
     "data": {
      "text/plain": [
       "'<table border=\"1\" class=\"dataframe\">  <thead>    <tr style=\"text-align: right;\">      <th></th>      <th>Value</th>    </tr>    <tr>      <th>Description</th>      <th></th>    </tr>  </thead>  <tbody>    <tr>      <th>Equatorial Diameter:</th>      <td>6,792 km</td>    </tr>    <tr>      <th>Polar Diameter:</th>      <td>6,752 km</td>    </tr>    <tr>      <th>Mass:</th>      <td>6.42 x 10^23 kg (10.7% Earth)</td>    </tr>    <tr>      <th>Moons:</th>      <td>2 (Phobos &amp; Deimos)</td>    </tr>    <tr>      <th>Orbit Distance:</th>      <td>227,943,824 km (1.52 AU)</td>    </tr>    <tr>      <th>Orbit Period:</th>      <td>687 days (1.9 years)</td>    </tr>    <tr>      <th>Surface Temperature:</th>      <td>-153 to 20 °C</td>    </tr>    <tr>      <th>First Record:</th>      <td>2nd millennium BC</td>    </tr>    <tr>      <th>Recorded By:</th>      <td>Egyptian astronomers</td>    </tr>  </tbody></table>'"
      ]
     },
     "execution_count": 209,
     "metadata": {},
     "output_type": "execute_result"
    }
   ],
   "source": [
    "# cleanup the table by removing the next line tag\n",
    "factsHtmlTable.replace(\"\\n\",\"\")"
   ]
  },
  {
   "cell_type": "markdown",
   "metadata": {},
   "source": [
    "### Mars Hemispheres"
   ]
  },
  {
   "cell_type": "markdown",
   "metadata": {},
   "source": [
    "<div class=\"alert alert-block alert-info\" style=\"color:black;\">\n",
    "\n",
    "- Visit the USGS Astrogeology site [here](https://astrogeology.usgs.gov/search/results?q=hemisphere+enhanced&k1=target&v1=Mars) to obtain high resolution images for each of Mar's hemispheres.\n",
    "\n",
    "- You will need to click each of the links to the hemispheres in order to find the image url to the full resolution image.\n",
    "\n",
    "- Save both the image url string for the full resolution hemisphere image, and the Hemisphere title containing the hemisphere name. Use a Python dictionary to store the data using the keys `img_url` and `title`.\n",
    "\n",
    "- Append the dictionary with the image url string and the hemisphere title to a list. This list will contain one dictionary for each hemisphere.\n",
    "\n",
    "###### python Example:\n",
    "    \n",
    ">hemisphere_image_urls = [\n",
    ">> {\"title\": \"Valles Marineris Hemisphere\", \"img_url\": \"...\"},<br>\n",
    ">> {\"title\": \"Cerberus Hemisphere\", \"img_url\": \"...\"},<br>\n",
    ">> {\"title\": \"Schiaparelli Hemisphere\", \"img_url\": \"...\"},<br>\n",
    ">> {\"title\": \"Syrtis Major Hemisphere\", \"img_url\": \"...\"},<br>\n",
    "    ]\n",
    "    \n",
    "</div>"
   ]
  },
  {
   "cell_type": "code",
   "execution_count": 210,
   "metadata": {},
   "outputs": [
    {
     "name": "stdout",
     "output_type": "stream",
     "text": [
      "[<div class=\"description\"><a class=\"itemLink product-item\" href=\"/search/map/Mars/Viking/cerberus_enhanced\"><h3>Cerberus Hemisphere Enhanced</h3></a><span class=\"subtitle\" style=\"float:left\">image/tiff 21 MB</span><span class=\"pubDate\" style=\"float:right\"></span><br/><p>Mosaic of the Cerberus hemisphere of Mars projected into point perspective, a view similar to that which one would see from a spacecraft. This mosaic is composed of 104 Viking Orbiter images acquired…</p></div>, <div class=\"description\"><a class=\"itemLink product-item\" href=\"/search/map/Mars/Viking/schiaparelli_enhanced\"><h3>Schiaparelli Hemisphere Enhanced</h3></a><span class=\"subtitle\" style=\"float:left\">image/tiff 35 MB</span><span class=\"pubDate\" style=\"float:right\"></span><br/><p>Mosaic of the Schiaparelli hemisphere of Mars projected into point perspective, a view similar to that which one would see from a spacecraft. The images were acquired in 1980 during early northern…</p></div>, <div class=\"description\"><a class=\"itemLink product-item\" href=\"/search/map/Mars/Viking/syrtis_major_enhanced\"><h3>Syrtis Major Hemisphere Enhanced</h3></a><span class=\"subtitle\" style=\"float:left\">image/tiff 25 MB</span><span class=\"pubDate\" style=\"float:right\"></span><br/><p>Mosaic of the Syrtis Major hemisphere of Mars projected into point perspective, a view similar to that which one would see from a spacecraft. This mosaic is composed of about 100 red and violet…</p></div>, <div class=\"description\"><a class=\"itemLink product-item\" href=\"/search/map/Mars/Viking/valles_marineris_enhanced\"><h3>Valles Marineris Hemisphere Enhanced</h3></a><span class=\"subtitle\" style=\"float:left\">image/tiff 27 MB</span><span class=\"pubDate\" style=\"float:right\"></span><br/><p>Mosaic of the Valles Marineris hemisphere of Mars projected into point perspective, a view similar to that which one would see from a spacecraft. The distance is 2500 kilometers from the surface of…</p></div>]\n"
     ]
    }
   ],
   "source": [
    "# define URL to use\n",
    "url= \"http://astrogeology.usgs.gov/search/results?q=hemisphere+enhanced&k1=target&v1=Mars\"\n",
    "\n",
    "# visit method tells the chrome browser previously defined to go to the URL and browser. \n",
    "browser.visit(url)\n",
    "html = browser.html\n",
    "\n",
    "# use BeautifulSoup to scrape website and store results in soup object and parse contents using lxml parser over html parser \n",
    "# in case html is not correctly structured\n",
    "soup = bs(html,\"lxml\")\n",
    "\n",
    "# Pull content for all hemispheres and store in var - test different options for best solution: div class=\"collapsible results\", div class=item, \n",
    "#div class=\"description\"\n",
    "#hemispheres=soup.find_all(\"div\", class_=\"collapsible results\") - Grabs too much data\n",
    "# item and description return \n",
    "\n",
    "# capture hyperlink and go to next page to grab large image\n",
    "hemispheres=soup.find_all(\"div\", class_=\"description\") \n",
    "\n",
    "\n",
    "#print scraped content in structured (prettified) format\n",
    "print(hemispheres)"
   ]
  },
  {
   "cell_type": "code",
   "execution_count": 211,
   "metadata": {},
   "outputs": [],
   "source": [
    "# this section based on material from units 12.2.7 and 12.2.8\n",
    "# Create empty hemisphere_image_url var to hold output and define variable for site homepage url\n",
    "hemisphere_image_urls=[]\n",
    "home_page_url = \"https://astrogeology.usgs.gov\""
   ]
  },
  {
   "cell_type": "code",
   "execution_count": 212,
   "metadata": {},
   "outputs": [
    {
     "data": {
      "text/plain": [
       "[{'title ': 'Cerberus Hemisphere Enhanced',\n",
       "  'image_url ': 'https://astrogeology.usgs.gov/cache/images/cfa62af2557222a02478f1fcd781d445_cerberus_enhanced.tif_full.jpg'},\n",
       " {'title ': 'Schiaparelli Hemisphere Enhanced',\n",
       "  'image_url ': 'https://astrogeology.usgs.gov/cache/images/3cdd1cbf5e0813bba925c9030d13b62e_schiaparelli_enhanced.tif_full.jpg'},\n",
       " {'title ': 'Syrtis Major Hemisphere Enhanced',\n",
       "  'image_url ': 'https://astrogeology.usgs.gov/cache/images/ae209b4e408bb6c3e67b6af38168cf28_syrtis_major_enhanced.tif_full.jpg'},\n",
       " {'title ': 'Valles Marineris Hemisphere Enhanced',\n",
       "  'image_url ': 'https://astrogeology.usgs.gov/cache/images/7cf2da4bf549ed01c17f206327be4db7_valles_marineris_enhanced.tif_full.jpg'}]"
      ]
     },
     "execution_count": 212,
     "metadata": {},
     "output_type": "execute_result"
    }
   ],
   "source": [
    "# loop through each hemisphere and pull the needed attributes, navigate through h3 which is the image title, a, href\n",
    "\n",
    "for h in hemispheres:\n",
    "    \n",
    "    # since the content under the description class, look for the h3 to find the image title and output as text\n",
    "    image_title = h.find(\"h3\").text \n",
    "    #print(image_title)\n",
    "    \n",
    "    # next, look for the nested href tag under the anchor tag to get the link which if clicked, will go to the page with the full size image link\n",
    "    image_pg_url = h.find(\"a\")[\"href\"] \n",
    "    #print(image_pg_link)\n",
    "    \n",
    "    # concatenate the home_page_url with the image_pg_link to get the link to the page with the full size image on it\n",
    "    full_res_image_pg_url = home_page_url + image_pg_url\n",
    "    # print(full_image_pg_url)\n",
    "    \n",
    "    #  now that the URL of the large image pages are known for all four images, visit those pages and find the URL for the actual \n",
    "    # image on those pages by passing in the URL from full_image_pg_url\n",
    "    browser.visit(full_res_image_pg_url)\n",
    "    full_res_image_html = browser.html\n",
    "    \n",
    "    # use BeautifulSoup to scrape the large image pages and store results in soup object, parse contents using lxml parser\n",
    "    soup = bs(full_res_image_html,\"lxml\")\n",
    "    \n",
    "    # look through \"soup\" contents for img tag with class of \"wide-image\" and grab the link defined by the src tag\n",
    "    full_res_image__partial_url = soup.find(\"img\", class_=\"wide-image\")[\"src\"]\n",
    "    # print(wide_image_url)\n",
    "    \n",
    "    # now that we have found the partial url for the full images, concatenate the home page URL with the partial lg image URL\n",
    "    full_res_image_url = home_page_url + full_res_image__partial_url\n",
    "    #print(full_res_image_url)\n",
    "    \n",
    "    # final steps: Use a Python dictionary to store the data using the keys img_url and title. Append the dictionary with the \n",
    "    # image url string and the hemisphere title to a list. This list will contain one dictionary for each hemisphere.\n",
    "    # use append to create dictionaries and add \"title\" and \"image_url\"\n",
    "    hemisphere_image_urls.append({\n",
    "        \"title \" : image_title, \n",
    "        \"image_url \" : full_res_image_url})\n",
    "    \n",
    "# print (hemisphere_image_urls)\n",
    "hemisphere_image_urls"
   ]
  },
  {
   "cell_type": "markdown",
   "metadata": {},
   "source": [
    " <h2 style=\"color:slateblue\";>Step 2 - MongoDB and Flask Application</h2>"
   ]
  },
  {
   "cell_type": "markdown",
   "metadata": {},
   "source": [
    "<div class=\"alert alert-block alert-info\" style=\"color:black;\">\n",
    "\n",
    "<p>Use MongoDB with Flask templating to create a new HTML page that displays all of the information that was scraped from the URLs above.</p>\n",
    "\n",
    "- Start by converting your Jupyter notebook into a Python script called `scrape_mars.py` with a function called `scrape` that will execute all of your scraping code from above and return one Python dictionary containing all of the scraped data.\n",
    "\n",
    "- Next, create a route called `/scrape` that will import your `scrape_mars.py` script and call your `scrape` function.\n",
    "\n",
    "> - Store the return value in Mongo as a Python dictionary.\n",
    "\n",
    "- Create a root route `/` that will query your Mongo database and pass the mars data into an HTML template to display the data.\n",
    "\n",
    "- Create a template HTML file called `index.html` that will take the mars data dictionary and display all of the data in the appropriate HTML elements. Use the following as a guide for what the final product should look like, but feel free to create your own design.\n",
    "\n",
    "> [final_app_part1.png](Images/final_app_part1.png)<br>\n",
    "> [final_app_part2.png](Images/final_app_part2.png)\n",
    "</div>"
   ]
  },
  {
   "cell_type": "code",
   "execution_count": null,
   "metadata": {},
   "outputs": [],
   "source": []
  }
 ],
 "metadata": {
  "kernelspec": {
   "display_name": "Python 3",
   "language": "python",
   "name": "python3"
  },
  "language_info": {
   "codemirror_mode": {
    "name": "ipython",
    "version": 3
   },
   "file_extension": ".py",
   "mimetype": "text/x-python",
   "name": "python",
   "nbconvert_exporter": "python",
   "pygments_lexer": "ipython3",
   "version": "3.6.6"
  }
 },
 "nbformat": 4,
 "nbformat_minor": 2
}
